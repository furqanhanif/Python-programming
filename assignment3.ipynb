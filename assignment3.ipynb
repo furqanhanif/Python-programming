{
 "cells": [
  {
   "cell_type": "code",
   "execution_count": 4,
   "metadata": {},
   "outputs": [
    {
     "name": "stdout",
     "output_type": "stream",
     "text": [
      "Please Enter the operation you want to perform..!power\n",
      "please enter the first number or base calculating power5\n",
      "pleae enter the 2nd number or power5\n",
      "3125\n"
     ]
    }
   ],
   "source": [
    "oper=input(\"Please Enter the operation you want to perform..!\")\n",
    "d1 = int(input(\"please enter the first number or base calculating power\"))\n",
    "d2 = int(input(\"pleae enter the 2nd number or power\"))\n",
    "if  oper=='m':\n",
    "     ans = d1*d2 \n",
    "     print(ans)\n",
    "elif  oper=='add':\n",
    "     ans=d1+d2\n",
    "     print(ans)\n",
    "elif oper=='sub':\n",
    "     ans=d1-d2\n",
    "     print(ans)\n",
    "elif oper=='div':\n",
    "     ans == d1/d2\n",
    "     print(ans)\n",
    "elif oper == 'power':\n",
    "     ans = d1**d2\n",
    "     print(ans)\n",
    "else :\n",
    "   print(\"you have enter the operation which calculator does not support\")"
   ]
  },
  {
   "cell_type": "markdown",
   "metadata": {},
   "source": []
  },
  {
   "cell_type": "code",
   "execution_count": 78,
   "metadata": {},
   "outputs": [
    {
     "name": "stdout",
     "output_type": "stream",
     "text": [
      "No list does not have any digit\n"
     ]
    }
   ],
   "source": [
    "arr =  ['Karachi' , 'furqan','city','traveller']\n",
    "g = len(arr)\n",
    "k = 0;\n",
    "for x in arr :\n",
    "    k = k+1;\n",
    "    check=str.isdigit(x)\n",
    "    if check == True :\n",
    "         print(\"yes list has a digit\"); break\n",
    "    elif  k==g:\n",
    "         print(\"No list does not have any digit\");\n",
    "        \n",
    "    \n",
    "         "
   ]
  },
  {
   "cell_type": "code",
   "execution_count": 80,
   "metadata": {},
   "outputs": [
    {
     "name": "stdout",
     "output_type": "stream",
     "text": [
      "{'city': 'karachi'}\n"
     ]
    }
   ],
   "source": [
    "dic = {}\n",
    "dic[\"city\"]='karachi'\n",
    "print(dic)"
   ]
  },
  {
   "cell_type": "code",
   "execution_count": 87,
   "metadata": {},
   "outputs": [
    {
     "name": "stdout",
     "output_type": "stream",
     "text": [
      "133\n"
     ]
    }
   ],
   "source": [
    "dicta  = {'Name':'Muhammad Furqan','F.Name':'Muhammad Hanif','no':'55','no1':'78'}\n",
    "k = 0;\n",
    "l = 0;\n",
    "for x,y in dicta.items() :\n",
    "    g=str.isdigit(x)\n",
    "    f=str.isdigit(y)\n",
    "    if g== True:\n",
    "        x = int(x)\n",
    "        k = k+x\n",
    "    if f == True:\n",
    "        y =  int(y)\n",
    "        l = l+y\n",
    "total = l+k \n",
    "print(total)\n",
    "    "
   ]
  },
  {
   "cell_type": "code",
   "execution_count": null,
   "metadata": {},
   "outputs": [],
   "source": []
  },
  {
   "cell_type": "code",
   "execution_count": 182,
   "metadata": {},
   "outputs": [
    {
     "name": "stdout",
     "output_type": "stream",
     "text": [
      "yes it has duplicate\n",
      "it does not have duplicate\n",
      "it does not have duplicate\n",
      "it does not have duplicate\n",
      "it does not have duplicate\n",
      "yes it has duplicate\n",
      "it does not have duplicate\n",
      "it does not have duplicate\n",
      "it does not have duplicate\n",
      "it does not have duplicate\n",
      "yes it has duplicate\n",
      "it does not have duplicate\n",
      "it does not have duplicate\n",
      "it does not have duplicate\n",
      "it does not have duplicate\n",
      "yes it has duplicate\n"
     ]
    }
   ],
   "source": [
    "array = ['quetta','lahore','Islamabad','karachi']\n",
    "k = 0;\n",
    "\n",
    "for x in array:\n",
    "        N = array[k]\n",
    "        k = k + 1\n",
    "        for m in array:\n",
    "            if N == m:\n",
    "                print(\"yes it has duplicate\")\n",
    "                break\n",
    "            el:\n",
    "                print(\"it does not have duplicate\")\n",
    "                \n",
    "        "
   ]
  },
  {
   "cell_type": "code",
   "execution_count": 185,
   "metadata": {},
   "outputs": [
    {
     "name": "stdout",
     "output_type": "stream",
     "text": [
      "Enter the key you want to checkcountry\n",
      "it does not exist\n",
      "it does not exist\n",
      "it does not exist\n"
     ]
    }
   ],
   "source": [
    "array = {'city':'karachi','Name':'Furqan','university':'Iqra university'}\n",
    "N =  input('Enter the key you want to check')\n",
    "for m in array.keys():\n",
    "    if N == m:\n",
    "        print(\"yes it exist\")\n",
    "        break\n",
    "    else:\n",
    "        print(\"it does not exist\")\n",
    "                "
   ]
  },
  {
   "cell_type": "code",
   "execution_count": null,
   "metadata": {},
   "outputs": [],
   "source": []
  }
 ],
 "metadata": {
  "kernelspec": {
   "display_name": "Python 3",
   "language": "python",
   "name": "python3"
  },
  "language_info": {
   "codemirror_mode": {
    "name": "ipython",
    "version": 3
   },
   "file_extension": ".py",
   "mimetype": "text/x-python",
   "name": "python",
   "nbconvert_exporter": "python",
   "pygments_lexer": "ipython3",
   "version": "3.7.4"
  }
 },
 "nbformat": 4,
 "nbformat_minor": 2
}
